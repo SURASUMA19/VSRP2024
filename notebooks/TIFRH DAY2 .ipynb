{
 "cells": [
  {
   "cell_type": "markdown",
   "id": "3b4b9c13",
   "metadata": {},
   "source": [
    "\n",
    "## BIONUMPY TUTORIAL"
   ]
  },
  {
   "cell_type": "markdown",
   "id": "f54faa80",
   "metadata": {},
   "source": [
    "### 1. Filtering FASTQ reads"
   ]
  },
  {
   "cell_type": "markdown",
   "id": "f285765b",
   "metadata": {},
   "source": [
    "Filtering reads is a crucial step in bioinformatics, particularly in DNA sequencing analysis. When DNA is sequenced, it's typically broken into smaller fragments called \"reads.\" These reads can contain errors, noise, or irrelevant information that can negatively impact downstream analysis. Filtering reads involves removing or adjusting these problematic sequences to enhance the accuracy and reliability of subsequent analyses. "
   ]
  },
  {
   "cell_type": "code",
   "execution_count": 12,
   "id": "b36e984f",
   "metadata": {
    "scrolled": true
   },
   "outputs": [
    {
     "data": {
      "text/plain": [
       "SequenceEntryWithQuality with 46197 entries\n",
       "                     name                 sequence                  quality\n",
       "  SRR19127870.1.1 M04500:  AAAAGGAAAAAAGAAACACGGAC  [30 30 30 30 30 30 30 3\n",
       "  SRR19127870.1.2 M04500:  ACCCACACTCCAGTGGGCAGTCT  [30 30 30 30 30 30 30 3\n",
       "  SRR19127870.2.1 M04500:  CTCTATGCAACAGAAGCAAAGAG  [30 30 30 30 30 30 30 3\n",
       "  SRR19127870.2.2 M04500:  CTCCCGTGCAAGAGTAAGCATAC  [30 30 30 30 30 30 30 3\n",
       "  SRR19127870.3.1 M04500:  ACCAAGTTGAAGGAATGCATGGA  [30 30 30 30 30 30 30 3\n",
       "  SRR19127870.3.2 M04500:  GACCTAAGCTCATCCTTCACATA  [30 30 30 30 30 30 30 3\n",
       "  SRR19127870.4.1 M04500:  GGTTTTGCGGGTCCGCCATGGCT  [30 30 30 30 30 30 30 3\n",
       "  SRR19127870.4.2 M04500:  CTAACATCGCGTCTTTTCTATTC  [30 30 30 30 30 30 30 3\n",
       "  SRR19127870.5.1 M04500:  GTCTGTCGTAACGGGCAACTCTG  [30 30 30 30 30 30 30 3\n",
       "  SRR19127870.5.2 M04500:  CAATAGCTATATGGTAACAATCT  [30 30 30 30 30 30 30 3"
      ]
     },
     "execution_count": 12,
     "metadata": {},
     "output_type": "execute_result"
    }
   ],
   "source": [
    "import bionumpy as bnp\n",
    "\n",
    "# Read FASTQ file\n",
    "reads = bnp.open(\"C:\\\\Users\\\\admin\\\\Desktop\\\\SRR19127870.fastq\").read()\n",
    "reads"
   ]
  },
  {
   "cell_type": "code",
   "execution_count": 14,
   "id": "0e25a55d",
   "metadata": {},
   "outputs": [
    {
     "data": {
      "text/plain": [
       "0.47412948417953354"
      ]
     },
     "execution_count": 14,
     "metadata": {},
     "output_type": "execute_result"
    }
   ],
   "source": [
    "gc_content = np.mean((reads.sequence == \"C\") | (reads.sequence == \"G\"))\n",
    "gc_content"
   ]
  },
  {
   "cell_type": "code",
   "execution_count": 15,
   "id": "eb151c52",
   "metadata": {},
   "outputs": [
    {
     "name": "stdout",
     "output_type": "stream",
     "text": [
      "Filtering reads: 12606 -> 12421\n",
      "Filtering reads: 12529 -> 12321\n",
      "Filtering reads: 12260 -> 12036\n",
      "Filtering reads: 8802 -> 8202\n"
     ]
    }
   ],
   "source": [
    "def filter_reads(file, out_filename):\n",
    "    with bnp.open(out_filename, 'w') as out_file:\n",
    "        for reads in bnp.open(file).read_chunks():\n",
    "            # Apply quality filters\n",
    "            min_quality_mask = reads.quality.min(axis=-1) > 1\n",
    "            max_quality_mask = reads.quality.mean(axis=-1) > 10\n",
    "            mask = min_quality_mask & max_quality_mask\n",
    "            print(f'Filtering reads: {len(reads)} -> {mask.sum()}')\n",
    "            out_file.write(reads[mask])\n",
    "if __name__ == \"__main__\":\n",
    "    input_file = \"C:\\\\Users\\\\admin\\\\Desktop\\\\SRR19127870.fastq\"\n",
    "    output_file = \"C:\\\\Users\\\\admin\\\\Desktop\\\\SRR19127870_filtered.fastq\"\n",
    "    filter_reads(input_file, output_file)"
   ]
  },
  {
   "cell_type": "code",
   "execution_count": 16,
   "id": "bc6e0dc2",
   "metadata": {},
   "outputs": [
    {
     "name": "stdout",
     "output_type": "stream",
     "text": [
      "Kmers:\n",
      "[AAAAGGAAAAAAGAAACACGGACACCCAAAG, AAAGGAAAAAAGAAACACGGACACCCAAAGT]\n",
      "[ACCCACACTCCAGTGGGCAGTCTGTCGTAAC, CCCACACTCCAGTGGGCAGTCTGTCGTAACG]\n",
      "[CTCTATGCAACAGAAGCAAAGAGGGTGTTTT, TCTATGCAACAGAAGCAAAGAGGGTGTTTTC]\n",
      "Raw kmers:\n",
      "[2311774397737732608 4036708113254974080]\n",
      "[1218144013301269588 2610379012539011349]\n",
      "[4606797596207377629 2304620903658691383]\n",
      "Flat raw kmers:\n",
      "[2311774397737732608 4036708113254974080 1009177028313743520\n",
      " 2558137266292129832]\n",
      "Kmers:\n",
      "[TTTGGGGGTGTCTCGGGAGCTACACTGATCT, TTGGGGGTGTCTCGGGAGCTACACTGATCTT]\n",
      "[GGAGTATCATCATAGGCACAGCGTAGGGGCT, GAGTATCATCATAGGCACAGCGTAGGGGCTA]\n",
      "[GCGAGTGTTCTAATTATAATATTGTTGATCA, CGAGTGTTCTAATTATAATATTGTTGATCAT]\n",
      "Raw kmers:\n",
      "[3975855360475638463 4452728353939450543]\n",
      "[3938650837560882058  984662709390220514]\n",
      "[ 517840028885839398 3588224521042000777]\n",
      "Flat raw kmers:\n",
      "[3975855360475638463 4452728353939450543 1113182088484862635\n",
      "  278295522121215658]\n",
      "Kmers:\n",
      "[GTAAATCGTCTCTTAGATACTCAGGCCACCG, TAAATCGTCTCTTAGATACTCAGGCCACCGC]\n",
      "[ACCATGCGCCGAGCGCTTATGGTCAACGAGG, CCATGCGCCGAGCGCTTATGGTCAACGAGGC]\n",
      "[GCATGTAATGACTTTTCTGTGAGATTATTGA, CATGTAATGACTTTTCTGTGAGATTATTGAA]\n",
      "Raw kmers:\n",
      "[2672472191785212942 1821039552553150211]\n",
      "[2922971189354011412 1883664301945349829]\n",
      "[850937260182015686 212734315045503921]\n",
      "Flat raw kmers:\n",
      "[2672472191785212942 1821039552553150211 1608181392745134528\n",
      " 1554966852793130608]\n",
      "Kmers:\n",
      "[TACGTGGAACAACTTGGAAATGCCTTTGGTT, ACGTGGAACAACTTGGAAATGCCTTTGGTTC]\n",
      "[ATACACAAGTGCTGGTAATGTAACTTGCTGG, TACACAAGTGCTGGTAATGTAACTTGCTGGT]\n",
      "[GGACACCACTCACATCTCTCAGGAAGCCATA, GACACCACTCACATCTCTCAGGAAGCCATAC]\n",
      "Raw kmers:\n",
      "[4521432618222496659 2283279659162471140]\n",
      "[3129794693188944972 4241213187117777171]\n",
      "[ 889505419869623370 1375297859574252818]\n",
      "Flat raw kmers:\n",
      "[4521432618222496659 2283279659162471140  570819914790617785\n",
      " 2448547987911348398]\n"
     ]
    }
   ],
   "source": [
    "import bionumpy as bnp\n",
    "\n",
    "file = bnp.open(\"C:\\\\Users\\\\admin\\\\Desktop\\\\SRR19127870.fastq\")\n",
    "# read the file chunk by chunk to keep memory low:\n",
    "for chunk in file.read_chunks():\n",
    "    sequences = chunk.sequence\n",
    "    # change encoding to a DNAEncoding, this works as long as the\n",
    "    # sequences only contains ACGT, and makes get_kmers extremely efficient\n",
    "    sequences = bnp.change_encoding(sequences, bnp.DNAEncoding)\n",
    "    print(\"Kmers:\")\n",
    "    kmers = bnp.get_kmers(sequences, k=31)\n",
    "    print(kmers[0:3, 0:2])\n",
    "\n",
    "    # kmers is an EncodedRaggedArray, one row for each read\n",
    "    # you can get all the raw numeric kmers efficiently like this:\n",
    "    print(\"Raw kmers:\")\n",
    "    numeric_kmers = kmers.raw()\n",
    "    print(numeric_kmers[0:3, 0:2])\n",
    "\n",
    "    # and if you don't care about the RaggedStructure, you can do ravel:\n",
    "    print(\"Flat raw kmers:\")\n",
    "    numeric_flat_kmers = numeric_kmers.ravel()\n",
    "    print(numeric_flat_kmers[0:4])"
   ]
  }
 ],
 "metadata": {
  "kernelspec": {
   "display_name": "Python 3 (ipykernel)",
   "language": "python",
   "name": "python3"
  },
  "language_info": {
   "codemirror_mode": {
    "name": "ipython",
    "version": 3
   },
   "file_extension": ".py",
   "mimetype": "text/x-python",
   "name": "python",
   "nbconvert_exporter": "python",
   "pygments_lexer": "ipython3",
   "version": "3.11.5"
  }
 },
 "nbformat": 4,
 "nbformat_minor": 5
}
