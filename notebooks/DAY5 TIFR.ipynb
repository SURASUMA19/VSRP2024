{
 "cells": [
  {
   "cell_type": "code",
   "execution_count": 3,
   "id": "112a3cb4",
   "metadata": {},
   "outputs": [
    {
     "name": "stdout",
     "output_type": "stream",
     "text": [
      "SequenceEntryWithQuality with 12606 entries\n",
      "                     name                 sequence                  quality\n",
      "  SRR19127870.1.1 M04500:  AAAAGGAAAAAAGAAACACGGAC  [30 30 30 30 30 30 30 3\n",
      "  SRR19127870.1.2 M04500:  ACCCACACTCCAGTGGGCAGTCT  [30 30 30 30 30 30 30 3\n",
      "  SRR19127870.2.1 M04500:  CTCTATGCAACAGAAGCAAAGAG  [30 30 30 30 30 30 30 3\n",
      "  SRR19127870.2.2 M04500:  CTCCCGTGCAAGAGTAAGCATAC  [30 30 30 30 30 30 30 3\n",
      "  SRR19127870.3.1 M04500:  ACCAAGTTGAAGGAATGCATGGA  [30 30 30 30 30 30 30 3\n",
      "  SRR19127870.3.2 M04500:  GACCTAAGCTCATCCTTCACATA  [30 30 30 30 30 30 30 3\n",
      "  SRR19127870.4.1 M04500:  GGTTTTGCGGGTCCGCCATGGCT  [30 30 30 30 30 30 30 3\n",
      "  SRR19127870.4.2 M04500:  CTAACATCGCGTCTTTTCTATTC  [30 30 30 30 30 30 30 3\n",
      "  SRR19127870.5.1 M04500:  GTCTGTCGTAACGGGCAACTCTG  [30 30 30 30 30 30 30 3\n",
      "  SRR19127870.5.2 M04500:  CAATAGCTATATGGTAACAATCT  [30 30 30 30 30 30 30 3\n"
     ]
    }
   ],
   "source": [
    "import bionumpy as bnp\n",
    "fastq_file = \"C:/Users/admin/Desktop/SRR19127870.fastq\"\n",
    "\n",
    "# Opens the FASTQ file\n",
    "f = bnp.open(fastq_file)\n",
    "\n",
    "# Reads a chunk from the FASTQ file\n",
    "chunk = f.read_chunk()\n",
    "\n",
    "# Prints the chunk to verify its contents\n",
    "print(chunk)\n"
   ]
  },
  {
   "cell_type": "code",
   "execution_count": 7,
   "id": "9697c271",
   "metadata": {},
   "outputs": [
    {
     "name": "stdout",
     "output_type": "stream",
     "text": [
      "Number of Gs in the sequences:\n",
      "369931\n",
      "Number of sequences with mean quality > 30:\n",
      "0\n"
     ]
    }
   ],
   "source": [
    "\n",
    "import bionumpy as bnp\n",
    "import numpy as np\n",
    "fastq_file = \"C:/Users/admin/Desktop/SRR19127870.fastq\"\n",
    "\n",
    "# Opens the FASTQ file\n",
    "f = bnp.open(fastq_file)\n",
    "\n",
    "# Reads a chunk from the FASTQ file\n",
    "chunk = f.read_chunk()\n",
    "\n",
    "# Prints the number of 'G' nucleotides in the sequences\n",
    "num_Gs = np.sum(chunk.sequence == chunk.sequence.encoding.encode(\"G\"))\n",
    "print(\"Number of Gs in the sequences:\")\n",
    "print(num_Gs)\n",
    "\n",
    "# Prints the number of sequences with mean quality > 30\n",
    "mean_qualities = np.mean(chunk.quality, axis=1)\n",
    "num_high_quality_sequences = np.sum(mean_qualities > 30)\n",
    "print(\"Number of sequences with mean quality > 30:\")\n",
    "print(num_high_quality_sequences)\n",
    "\n"
   ]
  },
  {
   "cell_type": "code",
   "execution_count": 8,
   "id": "bc21858a",
   "metadata": {},
   "outputs": [
    {
     "name": "stdout",
     "output_type": "stream",
     "text": [
      "Filtering reads: 12606 -> 12421\n",
      "Filtering reads: 12529 -> 12321\n",
      "Filtering reads: 12260 -> 12036\n",
      "Filtering reads: 8802 -> 8202\n"
     ]
    }
   ],
   "source": [
    "import bionumpy as bnp\n",
    "\n",
    "def test(file=\"C:/Users/admin/Desktop/SRR19127870.fastq\", out_filename=\"C:/Users/admin/Desktop/SRR19127870_filtered.fastq\"):\n",
    "    with bnp.open(out_filename, 'w') as out_file:\n",
    "        for reads in bnp.open(file).read_chunks():\n",
    "            min_quality_mask = reads.quality.min(axis=-1) > 1\n",
    "            max_quality_mask = reads.quality.mean(axis=-1) > 10\n",
    "            mask = min_quality_mask & max_quality_mask\n",
    "            print(f'Filtering reads: {len(reads)} -> {mask.sum()}')\n",
    "            out_file.write(reads[mask])\n",
    "\n",
    "if __name__ == \"__main__\":\n",
    "    test()\n"
   ]
  },
  {
   "cell_type": "code",
   "execution_count": 9,
   "id": "ff334950",
   "metadata": {},
   "outputs": [
    {
     "name": "stdout",
     "output_type": "stream",
     "text": [
      "Base counts in softclipped regions:\n",
      "=: 0\n",
      "A: 0\n",
      "C: 0\n",
      "M: 0\n",
      "G: 0\n",
      "R: 0\n",
      "S: 0\n",
      "V: 0\n",
      "T: 0\n",
      "W: 0\n",
      "Y: 0\n",
      "H: 0\n",
      "K: 0\n",
      "D: 0\n",
      "B: 0\n",
      "N: 0\n",
      "Base counts in whole reads:\n",
      "=: 0\n",
      "A: 19\n",
      "C: 8\n",
      "M: 0\n",
      "G: 10\n",
      "R: 0\n",
      "S: 0\n",
      "V: 0\n",
      "T: 12\n",
      "W: 0\n",
      "Y: 0\n",
      "H: 0\n",
      "K: 0\n",
      "D: 0\n",
      "B: 0\n",
      "N: 0\n"
     ]
    }
   ],
   "source": [
    "import bionumpy as bnp\n",
    "from npstructures import ragged_slice\n",
    "\n",
    "def test_bamquality():\n",
    "    # Opens the alignments file\n",
    "    alignments = bnp.open(\"C:/Users/admin/Downloads/alignments.bam\").read()\n",
    "    \n",
    "    # Extracts the first cigar operation for each alignment\n",
    "    start_cigar = alignments.cigar_op[..., 0]\n",
    "    \n",
    "    # Gets alignments that start with soft-clip\n",
    "    start_clipped_alignments = alignments[start_cigar == \"S\"]\n",
    "    \n",
    "    # Gets the number of softclipped bases\n",
    "    n_clipped_bases = start_clipped_alignments.cigar_length[..., 0]\n",
    "    \n",
    "    # Extracts clipped bases\n",
    "    clipped_bases = ragged_slice(start_clipped_alignments.sequence, ends=n_clipped_bases)\n",
    "    \n",
    "    # Counts bases in softclipped regions\n",
    "    print(\"Base counts in softclipped regions:\")\n",
    "    print(bnp.count_encoded(clipped_bases.ravel()))\n",
    "    \n",
    "    # Counts bases in whole reads\n",
    "    print(\"Base counts in whole reads:\")\n",
    "    print(bnp.count_encoded(alignments.sequence.ravel()))\n",
    "\n",
    "if __name__ == \"__main__\":\n",
    "    test_bamquality()\n"
   ]
  }
 ],
 "metadata": {
  "kernelspec": {
   "display_name": "Python 3 (ipykernel)",
   "language": "python",
   "name": "python3"
  },
  "language_info": {
   "codemirror_mode": {
    "name": "ipython",
    "version": 3
   },
   "file_extension": ".py",
   "mimetype": "text/x-python",
   "name": "python",
   "nbconvert_exporter": "python",
   "pygments_lexer": "ipython3",
   "version": "3.11.5"
  }
 },
 "nbformat": 4,
 "nbformat_minor": 5
}
