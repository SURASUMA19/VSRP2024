{
 "cells": [
  {
   "cell_type": "markdown",
   "id": "739ee1c0",
   "metadata": {},
   "source": [
    "## Simulating sequence datasets"
   ]
  },
  {
   "cell_type": "markdown",
   "id": "2b343678",
   "metadata": {},
   "source": [
    "The below provided code snippet demonstrates how to simulate sequence datasets using BioNumPy, perform basic analyses such as calculating GC content and counting specific motifs (e.g., \"AC\"), and then adding these computed values back to the sequence data structure."
   ]
  },
  {
   "cell_type": "markdown",
   "id": "28b209ce",
   "metadata": {},
   "source": [
    "## 1. Importing necessary libraries and setting up random number generation"
   ]
  },
  {
   "cell_type": "code",
   "execution_count": 1,
   "id": "05811b73",
   "metadata": {},
   "outputs": [],
   "source": [
    "import numpy as np\n",
    "rng = np.random.default_rng(seed=1)\n",
    "from bionumpy.simulate import simulate_sequences\n",
    "from bionumpy.sequence import match_string"
   ]
  },
  {
   "cell_type": "markdown",
   "id": "13a73fd4",
   "metadata": {},
   "source": [
    "1. rng: Random number generator initialized with a seed for reproducibility.\n",
    "\n",
    "2. simulate_sequences: Function from BioNumPy to simulate sequence data.\n",
    "\n",
    "3. match_string: Function from BioNumPy for motif matching within sequences."
   ]
  },
  {
   "cell_type": "markdown",
   "id": "047e7a44",
   "metadata": {},
   "source": [
    "## 2. Simulating sequences"
   ]
  },
  {
   "cell_type": "code",
   "execution_count": 9,
   "id": "55697129",
   "metadata": {},
   "outputs": [],
   "source": [
    "named_seqs = simulate_sequences('ACGT', {f's{i}': 10 + i for i in range(20)}, rng)"
   ]
  },
  {
   "cell_type": "code",
   "execution_count": 10,
   "id": "05894172",
   "metadata": {},
   "outputs": [
    {
     "data": {
      "text/plain": [
       "SequenceEntry with 20 entries\n",
       "                     name                 sequence\n",
       "                       s0               ACCCTCTACA\n",
       "                       s1              AGACGTGGCTA\n",
       "                       s2             GAGCCCTTCGAT\n",
       "                       s3            TCGGTAGTGGATA\n",
       "                       s4           CGCGGAATTAGGGA\n",
       "                       s5          GGTCCAAACAGAGGC\n",
       "                       s6         CTTCTATCGGTCTTAA\n",
       "                       s7        AGCAATGACGCTCGATG\n",
       "                       s8       GGAGCAACGGAACCAACA\n",
       "                       s9      AACCACTTACGAGTTACAG"
      ]
     },
     "execution_count": 10,
     "metadata": {},
     "output_type": "execute_result"
    }
   ],
   "source": [
    "named_seqs"
   ]
  },
  {
   "cell_type": "markdown",
   "id": "bebc2e60",
   "metadata": {},
   "source": [
    "simulate_sequences: Generates simulated sequences.\n",
    "'ACGT': Alphabet of nucleotides used in the sequences.\n",
    "{f's{i}': 10 + i for i in range(20)}: Dictionary specifying sequence names (s0, s1, ..., s19) and their respective lengths (10, 11, ..., 29).\n",
    "rng: Random number generator to ensure reproducibility."
   ]
  },
  {
   "cell_type": "markdown",
   "id": "69a3f0c8",
   "metadata": {},
   "source": [
    "## 3. Computing GC content per sequence"
   ]
  },
  {
   "cell_type": "code",
   "execution_count": 5,
   "id": "8ebd0c79",
   "metadata": {},
   "outputs": [],
   "source": [
    "seqs = named_seqs.sequence\n",
    "gc_content_per_seq = np.mean((seqs == 'C') | (seqs == 'G'), axis=1)"
   ]
  },
  {
   "cell_type": "code",
   "execution_count": 7,
   "id": "d12f0a61",
   "metadata": {},
   "outputs": [
    {
     "data": {
      "text/plain": [
       "encoded_ragged_array(['CGTTAATTAC',\n",
       "                      'TCCTCCGGAAT',\n",
       "                      'TTGTCCTACACT',\n",
       "                      'ACCTAGCATACCC',\n",
       "                      'ATGTAGCGTCGACT',\n",
       "                      'CGCACGCTCGTTCAG',\n",
       "                      'GTCCACGTTAGTCCTG',\n",
       "                      'GGGTTAAGTAGTTTAGT',\n",
       "                      'CACAATGTTTCCGCTATG',\n",
       "                      'CGCTTCCAGGTTTTTAACC',\n",
       "                      'TTCGGTACGCTTTCTAGCAG',\n",
       "                      'TTATTCATTCAACTCAGGAGC',\n",
       "                      'GAGCGCGACGTCAGGGACTTCG',\n",
       "                      'ATCCTGTATTAAACCATCTTAGT',\n",
       "                      'AACACCGGCAGCTGGGCCCGCAAA',\n",
       "                      'ACCACGCTGATTTATGTGGCTTGCG',\n",
       "                      'GAACGACATGCTTCTTTGTAATCCGC',\n",
       "                      'GTTATGGATCTAATGCTTAGTGGGGCA',\n",
       "                      'CGTTAATGTTCTGGCCCGGAAACGTTCG',\n",
       "                      'GTCGACTCATCCTCCATAGATGGCCTTCA'], AlphabetEncoding('ACGT'))"
      ]
     },
     "execution_count": 7,
     "metadata": {},
     "output_type": "execute_result"
    }
   ],
   "source": [
    "seqs"
   ]
  },
  {
   "cell_type": "code",
   "execution_count": 8,
   "id": "64323f4f",
   "metadata": {},
   "outputs": [
    {
     "data": {
      "text/plain": [
       "array([0.3       , 0.54545455, 0.41666667, 0.53846154, 0.5       ,\n",
       "       0.66666667, 0.5625    , 0.35294118, 0.44444444, 0.47368421,\n",
       "       0.5       , 0.38095238, 0.68181818, 0.30434783, 0.66666667,\n",
       "       0.52      , 0.46153846, 0.44444444, 0.53571429, 0.51724138])"
      ]
     },
     "execution_count": 8,
     "metadata": {},
     "output_type": "execute_result"
    }
   ],
   "source": [
    "gc_content_per_seq"
   ]
  },
  {
   "cell_type": "markdown",
   "id": "f8bbe3c3",
   "metadata": {},
   "source": [
    "seqs: Extracts the sequences from named_seqs.\n",
    "np.mean((seqs == 'C') | (seqs == 'G'), axis=1): Calculates the GC content for each sequence:\n",
    "(seqs == 'C') | (seqs == 'G'): Creates a boolean array where True indicates presence of 'C' or 'G'.\n",
    "np.mean(..., axis=1): Computes the mean along axis 1 (rows), giving the GC content for each sequence."
   ]
  },
  {
   "cell_type": "markdown",
   "id": "db5e2fd7",
   "metadata": {},
   "source": [
    "## 4. Adding computed GC content back to named_seqs"
   ]
  },
  {
   "cell_type": "code",
   "execution_count": 11,
   "id": "fc18b6f8",
   "metadata": {},
   "outputs": [],
   "source": [
    "named_seqs = named_seqs.add_fields({'gc': gc_content_per_seq}, {'gc': float})"
   ]
  },
  {
   "cell_type": "code",
   "execution_count": 12,
   "id": "69a14d5e",
   "metadata": {},
   "outputs": [
    {
     "data": {
      "text/plain": [
       "DynamicSequenceEntry with 20 entries\n",
       "                     name                 sequence                       gc\n",
       "                       s0               ACCCTCTACA                      0.3\n",
       "                       s1              AGACGTGGCTA       0.5454545454545454\n",
       "                       s2             GAGCCCTTCGAT       0.4166666666666667\n",
       "                       s3            TCGGTAGTGGATA       0.5384615384615384\n",
       "                       s4           CGCGGAATTAGGGA                      0.5\n",
       "                       s5          GGTCCAAACAGAGGC       0.6666666666666666\n",
       "                       s6         CTTCTATCGGTCTTAA                   0.5625\n",
       "                       s7        AGCAATGACGCTCGATG      0.35294117647058826\n",
       "                       s8       GGAGCAACGGAACCAACA       0.4444444444444444\n",
       "                       s9      AACCACTTACGAGTTACAG      0.47368421052631576"
      ]
     },
     "execution_count": 12,
     "metadata": {},
     "output_type": "execute_result"
    }
   ],
   "source": [
    "named_seqs"
   ]
  },
  {
   "cell_type": "markdown",
   "id": "db56d6cc",
   "metadata": {},
   "source": [
    "add_fields: Method to add new fields to named_seqs.\n",
    "{'gc': gc_content_per_seq}: Dictionary specifying the field name (gc) and the data (gc_content_per_seq).\n",
    "{'gc': float}: Specifies the data type (float) for the new field gc."
   ]
  },
  {
   "cell_type": "markdown",
   "id": "d1f9213b",
   "metadata": {},
   "source": [
    "## 5. Counting motif occurrences (e.g., \"AC\") in sequences"
   ]
  },
  {
   "cell_type": "code",
   "execution_count": 13,
   "id": "981c69a4",
   "metadata": {},
   "outputs": [],
   "source": [
    "ac_hits = match_string(seqs, \"AC\")\n",
    "ac_hit_sums = np.sum(ac_hits, axis=1)"
   ]
  },
  {
   "cell_type": "code",
   "execution_count": 14,
   "id": "ee889448",
   "metadata": {},
   "outputs": [
    {
     "data": {
      "text/plain": [
       "ragged_array([False False False False False False False False  True]\n",
       "[False False False False False False False False False False]\n",
       "[False False False False False False False  True False  True False]\n",
       "[ True False False False False False False False False  True False False]\n",
       "[False False False False False False False False False False False  True\n",
       " False]\n",
       "[False False False  True False False False False False False False False\n",
       " False False]\n",
       "[False False False False  True False False False False False False False\n",
       " False False False]\n",
       "[False False False False False False False False False False False False\n",
       " False False False False]\n",
       "[False  True False False False False False False False False False False\n",
       " False False False False False]\n",
       "[False False False False False False False False False False False False\n",
       " False False False False  True False]\n",
       "[False False False False False False  True False False False False False\n",
       " False False False False False False False]\n",
       "[False False False False False False False False False False False  True\n",
       " False False False False False False False False]\n",
       "[False False False False False False False  True False False False False\n",
       " False False False False  True False False False False]\n",
       "[False False False False False False False False False False False False\n",
       "  True False False False False False False False False False]\n",
       "[False  True False  True False False False False False False False False\n",
       " False False False False False False False False False False False]\n",
       "[ True False False  True False False False False False False False False\n",
       " False False False False False False False False False False False False]\n",
       "[False False  True False False  True False False False False False False\n",
       " False False False False False False False False False False False False\n",
       " False]\n",
       "[False False False False False False False False False False False False\n",
       " False False False False False False False False False False False False\n",
       " False False]\n",
       "[False False False False False False False False False False False False\n",
       " False False False False False False False False False  True False False\n",
       " False False False]\n",
       "[False False False False  True False False False False False False False\n",
       " False False False False False False False False False False False False\n",
       " False False False False])"
      ]
     },
     "execution_count": 14,
     "metadata": {},
     "output_type": "execute_result"
    }
   ],
   "source": [
    "ac_hits"
   ]
  },
  {
   "cell_type": "code",
   "execution_count": 16,
   "id": "8ef50f87",
   "metadata": {},
   "outputs": [
    {
     "data": {
      "text/plain": [
       "array([1, 0, 2, 2, 1, 1, 1, 0, 1, 1, 1, 1, 2, 1, 2, 2, 2, 0, 1, 1])"
      ]
     },
     "execution_count": 16,
     "metadata": {},
     "output_type": "execute_result"
    }
   ],
   "source": [
    "ac_hit_sums"
   ]
  },
  {
   "cell_type": "markdown",
   "id": "c4a1dd49",
   "metadata": {},
   "source": [
    "match_string(seqs, \"AC\"): Finds occurrences of the motif \"AC\" in each sequence.\n",
    "np.sum(ac_hits, axis=1): Sums the occurrences across each sequence (axis=1)."
   ]
  },
  {
   "cell_type": "markdown",
   "id": "c51237c3",
   "metadata": {},
   "source": [
    "## 6. Adding motif counts back to named_seqs"
   ]
  },
  {
   "cell_type": "code",
   "execution_count": 17,
   "id": "42680e49",
   "metadata": {},
   "outputs": [],
   "source": [
    "named_seqs = named_seqs.add_fields({'ac_hits': ac_hit_sums}, {'ac_hits': int})"
   ]
  },
  {
   "cell_type": "code",
   "execution_count": 18,
   "id": "7892a083",
   "metadata": {},
   "outputs": [
    {
     "data": {
      "text/plain": [
       "DynamicSequenceEntry with 20 entries\n",
       "                     name                 sequence                       gc                  ac_hits\n",
       "                       s0               ACCCTCTACA                      0.3                        1\n",
       "                       s1              AGACGTGGCTA       0.5454545454545454                        0\n",
       "                       s2             GAGCCCTTCGAT       0.4166666666666667                        2\n",
       "                       s3            TCGGTAGTGGATA       0.5384615384615384                        2\n",
       "                       s4           CGCGGAATTAGGGA                      0.5                        1\n",
       "                       s5          GGTCCAAACAGAGGC       0.6666666666666666                        1\n",
       "                       s6         CTTCTATCGGTCTTAA                   0.5625                        1\n",
       "                       s7        AGCAATGACGCTCGATG      0.35294117647058826                        0\n",
       "                       s8       GGAGCAACGGAACCAACA       0.4444444444444444                        1\n",
       "                       s9      AACCACTTACGAGTTACAG      0.47368421052631576                        1"
      ]
     },
     "execution_count": 18,
     "metadata": {},
     "output_type": "execute_result"
    }
   ],
   "source": [
    "named_seqs"
   ]
  },
  {
   "cell_type": "markdown",
   "id": "abb04d4f",
   "metadata": {},
   "source": [
    "Similar to adding GC content, this adds the motif counts (ac_hit_sums) as a new field named ac_hits of type int to named_seqs"
   ]
  },
  {
   "cell_type": "code",
   "execution_count": null,
   "id": "d10958e8",
   "metadata": {},
   "outputs": [],
   "source": []
  }
 ],
 "metadata": {
  "kernelspec": {
   "display_name": "Python 3 (ipykernel)",
   "language": "python",
   "name": "python3"
  },
  "language_info": {
   "codemirror_mode": {
    "name": "ipython",
    "version": 3
   },
   "file_extension": ".py",
   "mimetype": "text/x-python",
   "name": "python",
   "nbconvert_exporter": "python",
   "pygments_lexer": "ipython3",
   "version": "3.11.5"
  }
 },
 "nbformat": 4,
 "nbformat_minor": 5
}
