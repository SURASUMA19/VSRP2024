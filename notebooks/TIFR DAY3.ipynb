{
 "cells": [
  {
   "cell_type": "markdown",
   "id": "5fae018f",
   "metadata": {},
   "source": [
    "## Using BioNumPy to analyse kmers, minimzers"
   ]
  },
  {
   "cell_type": "markdown",
   "id": "390792a6",
   "metadata": {},
   "source": [
    "Encoding sequences refers to the process of converting biological sequences, such as DNA or protein sequences, from their natural form of letters (A, C, G, T for DNA; A, C, G, U for RNA; and amino acid codes for proteins) into a numerical format. For DNA sequences, the letters A, C, G, and T are commonly encoded as integers, such as 0, 1, 2, and 3, respectively."
   ]
  },
  {
   "cell_type": "markdown",
   "id": "8809b520",
   "metadata": {},
   "source": [
    "Minimizers are a compact representation of sequences used to reduce redundancy. They are determined by identifying the smallest  k-mer within a sliding window of a larger sequence."
   ]
  },
  {
   "cell_type": "markdown",
   "id": "f090f714",
   "metadata": {},
   "source": [
    "1. bnp.as_encoded_array:  Converts a list of sequences into a numerical encoded array using a specified encoding (e.g., DNAEncoding).\n",
    "Example: sequences = bnp.as_encoded_array([\"ACTG\", \"GGGACT\", \"G\"], bnp.DNAEncoding)\n",
    "\n",
    "2. bnp.sequence.get_kmers: Extracts k-mers of a specified length from sequences.\n",
    "Example: kmers = bnp.sequence.get_kmers(sequences, 3)\n",
    "\n",
    "3. bnp.count_encoded:Counts the occurrences of each unique k-mer in the extracted k-mers.\n",
    "Example: counts = bnp.count_encoded(kmers, axis=None)\n",
    "\n",
    "4. bnp.sequence.get_minimizers:Finds minimizers within a sliding window of sequences.\n",
    "Example: minimizers = bnp.sequence.get_minimizers(sequences, k=2, window_size=4)\n",
    "\n",
    "5. bnp.open:Opens a FASTQ file or any supported sequence file for reading.\n",
    "Example: file = bnp.open(\"example_data/big.fq.gz\")\n",
    "\n",
    "6. file.read_chunks:Reads the sequence file chunk by chunk to keep memory usage low, especially for large files.\n",
    "Example: for chunk in file.read_chunks():\n",
    "\n",
    "7. bnp.change_encoding:Converts the encoding of sequences to a specified encoding.\n",
    "Example: sequences = bnp.change_encoding(sequences, bnp.DNAEncoding)\n",
    "\n",
    "8. EncodedRaggedArray.raw: Retrieves the raw numeric representation of the k-mers or minimizers.\n",
    "Example: numeric_kmers = kmers.raw()\n",
    "\n",
    "9. numpy.ravel: Flattens a multi-dimensional array into a one-dimensional array.\n",
    "Example: numeric_flat_kmers = numeric_kmers.ravel()"
   ]
  },
  {
   "cell_type": "code",
   "execution_count": 3,
   "id": "fab5c066",
   "metadata": {},
   "outputs": [
    {
     "data": {
      "text/plain": [
       "encoded_ragged_array([[ACT, CTG],\n",
       "                      [GGG, GGA, GAC, ACT],\n",
       "                      []], 3merEncoding(AlphabetEncoding('ACGT')))"
      ]
     },
     "execution_count": 3,
     "metadata": {},
     "output_type": "execute_result"
    }
   ],
   "source": [
    "import bionumpy as bnp\n",
    "sequences = bnp.as_encoded_array([\"ACTG\", \"GGGACT\", \"G\"], bnp.DNAEncoding)\n",
    "kmers = bnp.sequence.get_kmers(sequences, 3)\n",
    "kmers"
   ]
  },
  {
   "cell_type": "code",
   "execution_count": 4,
   "id": "c6254ace",
   "metadata": {},
   "outputs": [
    {
     "data": {
      "text/plain": [
       "array(2, dtype=int64)"
      ]
     },
     "execution_count": 4,
     "metadata": {},
     "output_type": "execute_result"
    }
   ],
   "source": [
    "counts = bnp.count_encoded(kmers, axis=None)\n",
    "counts[\"ACT\"]"
   ]
  },
  {
   "cell_type": "code",
   "execution_count": 5,
   "id": "c8ef7608",
   "metadata": {},
   "outputs": [
    {
     "data": {
      "text/plain": [
       "encoded_ragged_array([[AC],\n",
       "                      [GA, GA, GA],\n",
       "                      []], 2merEncoding(AlphabetEncoding('ACGT')))"
      ]
     },
     "execution_count": 5,
     "metadata": {},
     "output_type": "execute_result"
    }
   ],
   "source": [
    "bnp.sequence.get_minimizers(sequences, k=2, window_size=4)"
   ]
  },
  {
   "cell_type": "code",
   "execution_count": 11,
   "id": "7a8ae9a2",
   "metadata": {},
   "outputs": [
    {
     "name": "stdout",
     "output_type": "stream",
     "text": [
      "K-mers:\n",
      "[ACT, CTG]\n",
      "[GGG, GGA, GAC, ACT]\n",
      "[]\n",
      "\n",
      "Counts of each 3-mer:\n",
      "AAA: 0\n",
      "CAA: 0\n",
      "GAA: 0\n",
      "TAA: 0\n",
      "ACA: 0\n",
      "CCA: 0\n",
      "GCA: 0\n",
      "TCA: 1\n",
      "AGA: 0\n",
      "CGA: 3\n",
      "GGA: 0\n",
      "TGA: 0\n",
      "ATA: 0\n",
      "CTA: 0\n",
      "GTA: 0\n",
      "TTA: 0\n",
      "AAC: 0\n",
      "CAC: 0\n",
      "GAC: 0\n",
      "TAC: 0\n",
      "ACC: 0\n",
      "CCC: 0\n",
      "GCC: 0\n",
      "TCC: 0\n",
      "AGC: 0\n",
      "CGC: 0\n",
      "GGC: 0\n",
      "TGC: 0\n",
      "ATC: 2\n",
      "CTC: 0\n",
      "GTC: 1\n",
      "TTC: 0\n",
      "AAG: 0\n",
      "CAG: 2\n",
      "GAG: 0\n",
      "TAG: 0\n",
      "ACG: 0\n",
      "CCG: 0\n",
      "GCG: 0\n",
      "TCG: 3\n",
      "AGG: 0\n",
      "CGG: 0\n",
      "GGG: 0\n",
      "TGG: 0\n",
      "ATG: 0\n",
      "CTG: 0\n",
      "GTG: 0\n",
      "TTG: 0\n",
      "AAT: 0\n",
      "CAT: 0\n",
      "GAT: 1\n",
      "TAT: 0\n",
      "ACT: 0\n",
      "CCT: 0\n",
      "GCT: 0\n",
      "TCT: 0\n",
      "AGT: 2\n",
      "CGT: 0\n",
      "GGT: 0\n",
      "TGT: 0\n",
      "ATT: 0\n",
      "CTT: 0\n",
      "GTT: 0\n",
      "TTT: 0\n",
      "AAA: 0\n",
      "CAA: 0\n",
      "GAA: 0\n",
      "TAA: 0\n",
      "ACA: 0\n",
      "CCA: 0\n",
      "GCA: 0\n",
      "TCA: 1\n",
      "AGA: 0\n",
      "CGA: 3\n",
      "GGA: 0\n",
      "TGA: 0\n",
      "ATA: 0\n",
      "CTA: 0\n",
      "GTA: 0\n",
      "TTA: 0\n",
      "AAC: 0\n",
      "CAC: 0\n",
      "GAC: 0\n",
      "TAC: 0\n",
      "ACC: 0\n",
      "CCC: 0\n",
      "GCC: 0\n",
      "TCC: 0\n",
      "AGC: 0\n",
      "CGC: 0\n",
      "GGC: 0\n",
      "TGC: 0\n",
      "ATC: 2\n",
      "CTC: 0\n",
      "GTC: 1\n",
      "TTC: 0\n",
      "AAG: 0\n",
      "CAG: 2\n",
      "GAG: 0\n",
      "TAG: 0\n",
      "ACG: 0\n",
      "CCG: 0\n",
      "GCG: 0\n",
      "TCG: 3\n",
      "AGG: 0\n",
      "CGG: 0\n",
      "GGG: 0\n",
      "TGG: 0\n",
      "ATG: 0\n",
      "CTG: 0\n",
      "GTG: 0\n",
      "TTG: 0\n",
      "AAT: 0\n",
      "CAT: 0\n",
      "GAT: 1\n",
      "TAT: 0\n",
      "ACT: 0\n",
      "CCT: 0\n",
      "GCT: 0\n",
      "TCT: 0\n",
      "AGT: 2\n",
      "CGT: 0\n",
      "GGT: 0\n",
      "TGT: 0\n",
      "ATT: 0\n",
      "CTT: 0\n",
      "GTT: 0\n",
      "TTT: 0\n"
     ]
    }
   ],
   "source": [
    "# Encode the DNA sequences\n",
    "sequences = bnp.as_encoded_array([\"ATCGATCGA\", \"CAGTCAGT\", \"TCGA\"], bnp.DNAEncoding)\n",
    "# Generate 3-mers from the sequences\n",
    "kmers1 = bnp.sequence.get_kmers(sequences, 3)\n",
    "# Output the encoded k-mers\n",
    "print(\"K-mers:\")\n",
    "print(kmers)\n",
    "# Count occurrences of each k-mer\n",
    "counts = bnp.count_encoded(kmers1, axis=None)\n",
    "\n",
    "# Output the counts of each k-mer\n",
    "print(\"\\nCounts of each 3-mer:\")\n",
    "print(counts)\n",
    "print(counts)"
   ]
  },
  {
   "cell_type": "markdown",
   "id": "8e797fa7",
   "metadata": {},
   "source": [
    "The sequence \"ATCGATCGATCG\" can be divided into the following 3-mers:\n",
    "ATC TCG CGA GAT ATC TCG CGA GAT ATC TCG CG\n",
    "assigning numeric values to kmer- ATC -> 1 TCG -> 2 CGA -> 3 GAT -> 4\n",
    "\n",
    "Raw numeric representation is given by:\n",
    "[1, 2, 3, 4, 1, 2, 3, 4, 1, 2, 5]\n",
    "\n",
    "\"ACGTGTCGA\" and a sliding window of size 4 (w=4) to find 3-mers (k=3).\n",
    "\n",
    "Sequence: \"ACGTGTCGA\"\n",
    "Window size (w): 4\n",
    "K-mer size (k): 3\n",
    "Step-by-Step Process:\n",
    "First Window: \"ACGT\"\n",
    "\n",
    "3-mers in this window: \"ACG\", \"CGT\"\n",
    "Lexicographically smallest 3-mer: \"ACG\"\n",
    "Second Window: \"CGTG\"\n",
    "\n",
    "3-mers in this window: \"CGT\", \"GTG\"\n",
    "Lexicographically smallest 3-mer: \"CGT\"\n",
    "\n",
    "Lexicographically smallest means the smallest in dictionary order. In the context of k-mers in DNA sequences, it refers to arranging the k-mers (substrings of length \n",
    "𝑘\n",
    "k) in alphabetical order and selecting the first one."
   ]
  },
  {
   "cell_type": "markdown",
   "id": "16e69217",
   "metadata": {},
   "source": [
    "### Retrieve the count for a specific k-mer \"CAG\""
   ]
  },
  {
   "cell_type": "code",
   "execution_count": 10,
   "id": "6f7c82ce",
   "metadata": {},
   "outputs": [
    {
     "name": "stdout",
     "output_type": "stream",
     "text": [
      "\n",
      "Count for the k-mer 'CAG': 2\n"
     ]
    }
   ],
   "source": [
    "specific_kmer = \"CAG\"\n",
    "specific_count = counts[specific_kmer]\n",
    "print(f\"\\nCount for the k-mer '{specific_kmer}': {specific_count}\")"
   ]
  },
  {
   "cell_type": "code",
   "execution_count": 2,
   "id": "7f7f7252",
   "metadata": {},
   "outputs": [
    {
     "ename": "FileNotFoundError",
     "evalue": "[Errno 2] No such file or directory: 'C:\\\\Users\\\\admin\\\\Desktop\\\\SRR19127870.fastq'",
     "output_type": "error",
     "traceback": [
      "\u001b[1;31m---------------------------------------------------------------------------\u001b[0m",
      "\u001b[1;31mFileNotFoundError\u001b[0m                         Traceback (most recent call last)",
      "Cell \u001b[1;32mIn[2], line 5\u001b[0m\n\u001b[0;32m      3\u001b[0m \u001b[38;5;66;03m# Opens the FASTQ file\u001b[39;00m\n\u001b[0;32m      4\u001b[0m file_path \u001b[38;5;241m=\u001b[39m \u001b[38;5;124m\"\u001b[39m\u001b[38;5;124mC:\u001b[39m\u001b[38;5;130;01m\\\\\u001b[39;00m\u001b[38;5;124mUsers\u001b[39m\u001b[38;5;130;01m\\\\\u001b[39;00m\u001b[38;5;124madmin\u001b[39m\u001b[38;5;130;01m\\\\\u001b[39;00m\u001b[38;5;124mDesktop\u001b[39m\u001b[38;5;130;01m\\\\\u001b[39;00m\u001b[38;5;124mSRR19127870.fastq\u001b[39m\u001b[38;5;124m\"\u001b[39m\n\u001b[1;32m----> 5\u001b[0m file \u001b[38;5;241m=\u001b[39m bnp\u001b[38;5;241m.\u001b[39mopen(file_path)\n\u001b[0;32m      6\u001b[0m file\u001b[38;5;241m.\u001b[39mbnp \u001b[38;5;241m=\u001b[39m \u001b[38;5;28mopen\u001b[39m\u001b[38;5;241m.\u001b[39mfile\n\u001b[0;32m      7\u001b[0m \u001b[38;5;66;03m# Reads the file chunk by chunk to keep memory low\u001b[39;00m\n",
      "File \u001b[1;32m~\\AppData\\Roaming\\Python\\Python311\\site-packages\\bionumpy\\io\\files.py:176\u001b[0m, in \u001b[0;36mbnp_open\u001b[1;34m(filename, mode, buffer_type, lazy)\u001b[0m\n\u001b[0;32m    174\u001b[0m \u001b[38;5;28;01mif\u001b[39;00m suffix \u001b[38;5;241m==\u001b[39m \u001b[38;5;124m\"\u001b[39m\u001b[38;5;124m.gz\u001b[39m\u001b[38;5;124m\"\u001b[39m:\n\u001b[0;32m    175\u001b[0m     suffix \u001b[38;5;241m=\u001b[39m path\u001b[38;5;241m.\u001b[39msuffixes[\u001b[38;5;241m-\u001b[39m\u001b[38;5;241m2\u001b[39m]\n\u001b[1;32m--> 176\u001b[0m \u001b[38;5;28;01mreturn\u001b[39;00m _get_buffered_file(filename, suffix, mode, is_gzip\u001b[38;5;241m=\u001b[39mis_gzip, buffer_type\u001b[38;5;241m=\u001b[39mbuffer_type, lazy\u001b[38;5;241m=\u001b[39mlazy)\n",
      "File \u001b[1;32m~\\AppData\\Roaming\\Python\\Python311\\site-packages\\bionumpy\\io\\files.py:63\u001b[0m, in \u001b[0;36m_get_buffered_file\u001b[1;34m(filename, suffix, mode, is_gzip, buffer_type, **kwargs)\u001b[0m\n\u001b[0;32m     60\u001b[0m     \u001b[38;5;28;01mreturn\u001b[39;00m writer_class(open_func(filename, \u001b[38;5;124m'\u001b[39m\u001b[38;5;124mab\u001b[39m\u001b[38;5;124m'\u001b[39m), buffer_type)\n\u001b[0;32m     62\u001b[0m \u001b[38;5;66;03m# kwargs2 = {key: val for key, val in kwargs.items() if key in [\"has_header\"]}\u001b[39;00m\n\u001b[1;32m---> 63\u001b[0m file_reader \u001b[38;5;241m=\u001b[39m NumpyFileReader(open_func(filename, \u001b[38;5;124m\"\u001b[39m\u001b[38;5;124mrb\u001b[39m\u001b[38;5;124m\"\u001b[39m), buffer_type) \u001b[38;5;66;03m# , **kwargs2)\u001b[39;00m\n\u001b[0;32m     64\u001b[0m \u001b[38;5;28;01mif\u001b[39;00m is_gzip:\n\u001b[0;32m     65\u001b[0m     file_reader\u001b[38;5;241m.\u001b[39mset_prepend_mode()\n",
      "\u001b[1;31mFileNotFoundError\u001b[0m: [Errno 2] No such file or directory: 'C:\\\\Users\\\\admin\\\\Desktop\\\\SRR19127870.fastq'"
     ]
    }
   ],
   "source": [
    "import bionumpy as bnp\n",
    "\n",
    "# Opens the FASTQ file\n",
    "file_path = \"C:\\\\Users\\\\admin\\\\Desktop\\\\SRR19127870.fastq\"\n",
    "file = bnp.open(file_path)\n",
    "file.bnp = open.file\n",
    "# Reads the file chunk by chunk to keep memory low\n",
    "for chunk in file.read_chunks():\n",
    "    sequences = chunk.sequence\n",
    "    \n",
    "    # Changes the encoding to DNAEncoding\n",
    "    sequences = bnp.change_encoding(sequences, bnp.DNAEncoding)\n",
    "    \n",
    "    # Prints kmers\n",
    "    print(\"Kmers:\")\n",
    "    kmers = bnp.get_kmers(sequences, k=2)\n",
    "    print(kmers[0:3, 0:2])\n",
    "\n",
    "    # Gets raw numeric kmers\n",
    "    print(\"Raw kmers:\")\n",
    "    numeric_kmers = kmers.raw()\n",
    "    print(numeric_kmers[:, :])\n",
    "\n",
    "    # Flattens raw numeric kmers\n",
    "    print(\"Flat raw kmers:\")\n",
    "    numeric_flat_kmers = numeric_kmers.ravel()\n",
    "    print(numeric_flat_kmers[0:200])"
   ]
  },
  {
   "cell_type": "code",
   "execution_count": null,
   "id": "a2b900e7",
   "metadata": {},
   "outputs": [],
   "source": []
  },
  {
   "cell_type": "code",
   "execution_count": null,
   "id": "8fde92de",
   "metadata": {},
   "outputs": [],
   "source": []
  }
 ],
 "metadata": {
  "kernelspec": {
   "display_name": "Python 3 (ipykernel)",
   "language": "python",
   "name": "python3"
  },
  "language_info": {
   "codemirror_mode": {
    "name": "ipython",
    "version": 3
   },
   "file_extension": ".py",
   "mimetype": "text/x-python",
   "name": "python",
   "nbconvert_exporter": "python",
   "pygments_lexer": "ipython3",
   "version": "3.11.5"
  }
 },
 "nbformat": 4,
 "nbformat_minor": 5
}
