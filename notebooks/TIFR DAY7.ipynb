{
 "cells": [
  {
   "cell_type": "markdown",
   "id": "9b88b87b",
   "metadata": {},
   "source": [
    "## Summary of BioNumPy Usage for Computing GC Content Inside Genes\n",
    "BioNumPy simplifies classic bioinformatics tasks such as computing GC content within genes using sequence and interval arrays.\n",
    "\n",
    "1. Reading Sequence and Interval Data:\n",
    "Sequence arrays from FASTA files.\n",
    "Interval arrays from BED files.\n",
    "\n",
    "2. Extracting Gene Parts:\n",
    "selected_seq = sequence[intervals]\n",
    "\n",
    "3. Counting Nucleotides:\n",
    "nn_counts = {nn: (selected_seq == nn).sum() for nn in \"ACTG\"}\n",
    "\n",
    "4. GC Content Calculation:\n",
    "Inside genes: gc_count = sum([nn_counts[nn] for nn in \"GC\"])\n",
    "Outside genes: gc_outside = get_gc_content(chr1_sequence, ~get_boolean_mask(genes, len(chr1_sequence)))"
   ]
  },
  {
   "cell_type": "code",
   "execution_count": 7,
   "id": "649bb453",
   "metadata": {},
   "outputs": [
    {
     "name": "stdout",
     "output_type": "stream",
     "text": [
      "Gene-regions:  "
     ]
    },
    {
     "ename": "ParsingException",
     "evalue": "Error when parsing field start from Interval",
     "output_type": "error",
     "traceback": [
      "\u001b[1;31m---------------------------------------------------------------------------\u001b[0m",
      "\u001b[1;31mIndexError\u001b[0m                                Traceback (most recent call last)",
      "File \u001b[1;32m~\\AppData\\Roaming\\Python\\Python311\\site-packages\\bionumpy\\bnpdataclass\\lazybnpdataclass.py:147\u001b[0m, in \u001b[0;36mcreate_lazy_class.<locals>.NewClass._get_field\u001b[1;34m(self, var_name)\u001b[0m\n\u001b[0;32m    146\u001b[0m \u001b[38;5;28;01mtry\u001b[39;00m:\n\u001b[1;32m--> 147\u001b[0m     \u001b[38;5;28;01mreturn\u001b[39;00m \u001b[38;5;28mself\u001b[39m\u001b[38;5;241m.\u001b[39m_itemgetter(var_name)\n\u001b[0;32m    148\u001b[0m \u001b[38;5;28;01mexcept\u001b[39;00m \u001b[38;5;167;01mException\u001b[39;00m \u001b[38;5;28;01mas\u001b[39;00m e:\n",
      "File \u001b[1;32m~\\AppData\\Roaming\\Python\\Python311\\site-packages\\bionumpy\\bnpdataclass\\lazybnpdataclass.py:78\u001b[0m, in \u001b[0;36mItemGetter.__call__\u001b[1;34m(self, name)\u001b[0m\n\u001b[0;32m     77\u001b[0m \u001b[38;5;28;01mtry\u001b[39;00m:\n\u001b[1;32m---> 78\u001b[0m     \u001b[38;5;28;01mreturn\u001b[39;00m \u001b[38;5;28mself\u001b[39m\u001b[38;5;241m.\u001b[39m_buffer\u001b[38;5;241m.\u001b[39mget_field_by_number(\u001b[38;5;28mself\u001b[39m\u001b[38;5;241m.\u001b[39m_field_dict[name][\u001b[38;5;241m0\u001b[39m], \u001b[38;5;28mself\u001b[39m\u001b[38;5;241m.\u001b[39m_field_dict[name][\u001b[38;5;241m1\u001b[39m])\n\u001b[0;32m     79\u001b[0m \u001b[38;5;28;01mexcept\u001b[39;00m FormatException \u001b[38;5;28;01mas\u001b[39;00m e:\n",
      "File \u001b[1;32m~\\AppData\\Roaming\\Python\\Python311\\site-packages\\bionumpy\\io\\delimited_buffers.py:290\u001b[0m, in \u001b[0;36mDelimitedBuffer.get_field_by_number\u001b[1;34m(self, field_nr, field_type)\u001b[0m\n\u001b[0;32m    289\u001b[0m     field_type \u001b[38;5;241m=\u001b[39m dataclasses\u001b[38;5;241m.\u001b[39mfields(\u001b[38;5;28mself\u001b[39m\u001b[38;5;241m.\u001b[39mactual_dataclass)[field_nr]\n\u001b[1;32m--> 290\u001b[0m \u001b[38;5;28;01mreturn\u001b[39;00m \u001b[38;5;28mself\u001b[39m\u001b[38;5;241m.\u001b[39m_get_field_by_number(\n\u001b[0;32m    291\u001b[0m     field_nr, field_type)\n",
      "File \u001b[1;32m~\\AppData\\Roaming\\Python\\Python311\\site-packages\\bionumpy\\io\\delimited_buffers.py:254\u001b[0m, in \u001b[0;36mDelimitedBuffer._get_field_by_number\u001b[1;34m(self, col_number, field_type)\u001b[0m\n\u001b[0;32m    253\u001b[0m \u001b[38;5;28;01mif\u001b[39;00m field_type \u001b[38;5;241m==\u001b[39m \u001b[38;5;28mint\u001b[39m:\n\u001b[1;32m--> 254\u001b[0m     subresult \u001b[38;5;241m=\u001b[39m \u001b[38;5;28mself\u001b[39m\u001b[38;5;241m.\u001b[39m_buffer_extractor\u001b[38;5;241m.\u001b[39mget_digit_array(col_number)\n\u001b[0;32m    255\u001b[0m     text \u001b[38;5;241m=\u001b[39m subresult[\u001b[38;5;241m0\u001b[39m]\n",
      "File \u001b[1;32m~\\AppData\\Roaming\\Python\\Python311\\site-packages\\bionumpy\\io\\file_buffers.py:347\u001b[0m, in \u001b[0;36mTextBufferExtractor.get_digit_array\u001b[1;34m(self, field_nr)\u001b[0m\n\u001b[0;32m    346\u001b[0m \u001b[38;5;28;01mdef\u001b[39;00m \u001b[38;5;21mget_digit_array\u001b[39m(\u001b[38;5;28mself\u001b[39m, field_nr: \u001b[38;5;28mint\u001b[39m):\n\u001b[1;32m--> 347\u001b[0m     starts \u001b[38;5;241m=\u001b[39m \u001b[38;5;28mself\u001b[39m\u001b[38;5;241m.\u001b[39m_field_starts[:, field_nr]\n\u001b[0;32m    348\u001b[0m     possible_signs \u001b[38;5;241m=\u001b[39m \u001b[38;5;28mself\u001b[39m\u001b[38;5;241m.\u001b[39m_data[starts]\n",
      "\u001b[1;31mIndexError\u001b[0m: index 1 is out of bounds for axis 1 with size 1",
      "\nThe above exception was the direct cause of the following exception:\n",
      "\u001b[1;31mParsingException\u001b[0m                          Traceback (most recent call last)",
      "Cell \u001b[1;32mIn[7], line 31\u001b[0m\n\u001b[0;32m     27\u001b[0m     \u001b[38;5;28;01mreturn\u001b[39;00m gc_count \u001b[38;5;241m/\u001b[39m \u001b[38;5;28msum\u001b[39m(nn_counts\u001b[38;5;241m.\u001b[39mvalues())\n\u001b[0;32m     30\u001b[0m \u001b[38;5;28;01mif\u001b[39;00m \u001b[38;5;18m__name__\u001b[39m \u001b[38;5;241m==\u001b[39m \u001b[38;5;124m'\u001b[39m\u001b[38;5;124m__main__\u001b[39m\u001b[38;5;124m'\u001b[39m:\n\u001b[1;32m---> 31\u001b[0m     result \u001b[38;5;241m=\u001b[39m analyze_within_chromosome(\n\u001b[0;32m     32\u001b[0m         \u001b[38;5;124m\"\u001b[39m\u001b[38;5;124mC:/Users/admin/OneDrive/Desktop/gc_test_onechr.fa\u001b[39m\u001b[38;5;124m\"\u001b[39m,\n\u001b[0;32m     33\u001b[0m         \u001b[38;5;124m\"\u001b[39m\u001b[38;5;124mC:/Users/admin/OneDrive/Desktop/gc_bedtest_onechr.bed\u001b[39m\u001b[38;5;124m\"\u001b[39m\n\u001b[0;32m     34\u001b[0m     )\n\u001b[0;32m     35\u001b[0m     \u001b[38;5;28;01massert\u001b[39;00m result \u001b[38;5;241m==\u001b[39m (\u001b[38;5;241m0.6\u001b[39m, \u001b[38;5;241m0.2\u001b[39m)\n",
      "Cell \u001b[1;32mIn[7], line 10\u001b[0m, in \u001b[0;36manalyze_within_chromosome\u001b[1;34m(seq_filename, genes_filename)\u001b[0m\n\u001b[0;32m      8\u001b[0m chr1 \u001b[38;5;241m=\u001b[39m bnp\u001b[38;5;241m.\u001b[39mopen(seq_filename)\u001b[38;5;241m.\u001b[39mread()[\u001b[38;5;241m0\u001b[39m]\n\u001b[0;32m      9\u001b[0m genes \u001b[38;5;241m=\u001b[39m bnp\u001b[38;5;241m.\u001b[39mopen(genes_filename)\u001b[38;5;241m.\u001b[39mread()\n\u001b[1;32m---> 10\u001b[0m \u001b[38;5;28mprint\u001b[39m(\u001b[38;5;124m\"\u001b[39m\u001b[38;5;124mGene-regions: \u001b[39m\u001b[38;5;124m\"\u001b[39m, genes)\n\u001b[0;32m     11\u001b[0m \u001b[38;5;28mprint\u001b[39m(\u001b[38;5;124m\"\u001b[39m\u001b[38;5;124mFasta: \u001b[39m\u001b[38;5;124m\"\u001b[39m, chr1)\n\u001b[0;32m     12\u001b[0m gc_inside, gc_outside \u001b[38;5;241m=\u001b[39m gc_inside_and_outside(chr1\u001b[38;5;241m.\u001b[39msequence, genes)\n",
      "File \u001b[1;32m~\\AppData\\Roaming\\Python\\Python311\\site-packages\\bionumpy\\bnpdataclass\\lazybnpdataclass.py:132\u001b[0m, in \u001b[0;36mcreate_lazy_class.<locals>.NewClass.__str__\u001b[1;34m(self)\u001b[0m\n\u001b[0;32m    131\u001b[0m \u001b[38;5;28;01mdef\u001b[39;00m \u001b[38;5;21m__str__\u001b[39m(\u001b[38;5;28mself\u001b[39m):\n\u001b[1;32m--> 132\u001b[0m     \u001b[38;5;28;01mreturn\u001b[39;00m \u001b[38;5;28mself\u001b[39m[:\u001b[38;5;241m10\u001b[39m]\u001b[38;5;241m.\u001b[39mget_data_object()\u001b[38;5;241m.\u001b[39m\u001b[38;5;21m__str__\u001b[39m()\u001b[38;5;241m.\u001b[39mreplace(\u001b[38;5;124m'\u001b[39m\u001b[38;5;124mwith 10 entries\u001b[39m\u001b[38;5;124m'\u001b[39m, \u001b[38;5;124mf\u001b[39m\u001b[38;5;124m'\u001b[39m\u001b[38;5;124mwith \u001b[39m\u001b[38;5;132;01m{\u001b[39;00m\u001b[38;5;28mlen\u001b[39m(\u001b[38;5;28mself\u001b[39m)\u001b[38;5;132;01m}\u001b[39;00m\u001b[38;5;124m entries\u001b[39m\u001b[38;5;124m'\u001b[39m)\n",
      "File \u001b[1;32m~\\AppData\\Roaming\\Python\\Python311\\site-packages\\bionumpy\\bnpdataclass\\lazybnpdataclass.py:178\u001b[0m, in \u001b[0;36mcreate_lazy_class.<locals>.NewClass.get_data_object\u001b[1;34m(self)\u001b[0m\n\u001b[0;32m    176\u001b[0m \u001b[38;5;28;01mdef\u001b[39;00m \u001b[38;5;21mget_data_object\u001b[39m(\u001b[38;5;28mself\u001b[39m):\n\u001b[0;32m    177\u001b[0m     \u001b[38;5;28;01mif\u001b[39;00m \u001b[38;5;129;01mnot\u001b[39;00m \u001b[38;5;28mself\u001b[39m\u001b[38;5;241m.\u001b[39m_computed:\n\u001b[1;32m--> 178\u001b[0m         fields \u001b[38;5;241m=\u001b[39m [\u001b[38;5;28mgetattr\u001b[39m(\u001b[38;5;28mself\u001b[39m, field\u001b[38;5;241m.\u001b[39mname) \u001b[38;5;28;01mfor\u001b[39;00m field \u001b[38;5;129;01min\u001b[39;00m dataclasses\u001b[38;5;241m.\u001b[39mfields(dataclass)]\n\u001b[0;32m    179\u001b[0m         \u001b[38;5;28mself\u001b[39m\u001b[38;5;241m.\u001b[39m_data \u001b[38;5;241m=\u001b[39m dataclass(\u001b[38;5;241m*\u001b[39mfields)\n\u001b[0;32m    180\u001b[0m         \u001b[38;5;28mself\u001b[39m\u001b[38;5;241m.\u001b[39m_computed \u001b[38;5;241m=\u001b[39m \u001b[38;5;28;01mTrue\u001b[39;00m\n",
      "File \u001b[1;32m~\\AppData\\Roaming\\Python\\Python311\\site-packages\\bionumpy\\bnpdataclass\\lazybnpdataclass.py:178\u001b[0m, in \u001b[0;36m<listcomp>\u001b[1;34m(.0)\u001b[0m\n\u001b[0;32m    176\u001b[0m \u001b[38;5;28;01mdef\u001b[39;00m \u001b[38;5;21mget_data_object\u001b[39m(\u001b[38;5;28mself\u001b[39m):\n\u001b[0;32m    177\u001b[0m     \u001b[38;5;28;01mif\u001b[39;00m \u001b[38;5;129;01mnot\u001b[39;00m \u001b[38;5;28mself\u001b[39m\u001b[38;5;241m.\u001b[39m_computed:\n\u001b[1;32m--> 178\u001b[0m         fields \u001b[38;5;241m=\u001b[39m [\u001b[38;5;28mgetattr\u001b[39m(\u001b[38;5;28mself\u001b[39m, field\u001b[38;5;241m.\u001b[39mname) \u001b[38;5;28;01mfor\u001b[39;00m field \u001b[38;5;129;01min\u001b[39;00m dataclasses\u001b[38;5;241m.\u001b[39mfields(dataclass)]\n\u001b[0;32m    179\u001b[0m         \u001b[38;5;28mself\u001b[39m\u001b[38;5;241m.\u001b[39m_data \u001b[38;5;241m=\u001b[39m dataclass(\u001b[38;5;241m*\u001b[39mfields)\n\u001b[0;32m    180\u001b[0m         \u001b[38;5;28mself\u001b[39m\u001b[38;5;241m.\u001b[39m_computed \u001b[38;5;241m=\u001b[39m \u001b[38;5;28;01mTrue\u001b[39;00m\n",
      "File \u001b[1;32m~\\AppData\\Roaming\\Python\\Python311\\site-packages\\bionumpy\\bnpdataclass\\lazybnpdataclass.py:139\u001b[0m, in \u001b[0;36mcreate_lazy_class.<locals>.NewClass.__getattr__\u001b[1;34m(self, var_name)\u001b[0m\n\u001b[0;32m    137\u001b[0m \u001b[38;5;28;01mif\u001b[39;00m var_name \u001b[38;5;129;01min\u001b[39;00m field_names:\n\u001b[0;32m    138\u001b[0m     \u001b[38;5;28;01mif\u001b[39;00m var_name \u001b[38;5;129;01mnot\u001b[39;00m \u001b[38;5;129;01min\u001b[39;00m \u001b[38;5;28mself\u001b[39m\u001b[38;5;241m.\u001b[39m_computed_values:\n\u001b[1;32m--> 139\u001b[0m         value \u001b[38;5;241m=\u001b[39m \u001b[38;5;28mself\u001b[39m\u001b[38;5;241m.\u001b[39m_get_field(var_name)\n\u001b[0;32m    140\u001b[0m         \u001b[38;5;28mself\u001b[39m\u001b[38;5;241m.\u001b[39m_computed_values[var_name] \u001b[38;5;241m=\u001b[39m value\n\u001b[0;32m    141\u001b[0m     \u001b[38;5;28;01mreturn\u001b[39;00m \u001b[38;5;28mself\u001b[39m\u001b[38;5;241m.\u001b[39m_computed_values[var_name]\n",
      "File \u001b[1;32m~\\AppData\\Roaming\\Python\\Python311\\site-packages\\bionumpy\\bnpdataclass\\lazybnpdataclass.py:151\u001b[0m, in \u001b[0;36mcreate_lazy_class.<locals>.NewClass._get_field\u001b[1;34m(self, var_name)\u001b[0m\n\u001b[0;32m    149\u001b[0m \u001b[38;5;28;01mif\u001b[39;00m \u001b[38;5;28misinstance\u001b[39m(e, FormatException):\n\u001b[0;32m    150\u001b[0m     \u001b[38;5;28;01mraise\u001b[39;00m e\n\u001b[1;32m--> 151\u001b[0m \u001b[38;5;28;01mraise\u001b[39;00m ParsingException(\u001b[38;5;124mf\u001b[39m\u001b[38;5;124m'\u001b[39m\u001b[38;5;124mError when parsing field \u001b[39m\u001b[38;5;132;01m{\u001b[39;00mvar_name\u001b[38;5;132;01m}\u001b[39;00m\u001b[38;5;124m from \u001b[39m\u001b[38;5;132;01m{\u001b[39;00m\u001b[38;5;28mself\u001b[39m\u001b[38;5;241m.\u001b[39m\u001b[38;5;18m__class__\u001b[39m\u001b[38;5;241m.\u001b[39m\u001b[38;5;18m__name__\u001b[39m\u001b[38;5;132;01m}\u001b[39;00m\u001b[38;5;124m'\u001b[39m) \u001b[38;5;28;01mfrom\u001b[39;00m \u001b[38;5;21;01me\u001b[39;00m\n",
      "\u001b[1;31mParsingException\u001b[0m: Error when parsing field start from Interval"
     ]
    }
   ],
   "source": [
    "from typing import Tuple\n",
    "\n",
    "import bionumpy as bnp\n",
    "from bionumpy.arithmetics import get_boolean_mask\n",
    "\n",
    "\n",
    "def analyze_within_chromosome(seq_filename: str, genes_filename: str):\n",
    "    chr1 = bnp.open(seq_filename).read()[0]\n",
    "    genes = bnp.open(genes_filename).read()\n",
    "    print(\"Gene-regions: \", genes)\n",
    "    print(\"Fasta: \", chr1)\n",
    "    gc_inside, gc_outside = gc_inside_and_outside(chr1.sequence, genes)\n",
    "    print(f\"GC inside: {gc_inside:.2f}, GC outside: {gc_outside:.2f}\")\n",
    "    return gc_inside, gc_outside\n",
    "\n",
    "\n",
    "def gc_inside_and_outside(chr1_sequence: bnp.EncodedArray, genes: bnp.Interval) -> Tuple[int, int]:\n",
    "    gc_inside = get_gc_content(chr1_sequence, genes)\n",
    "    gc_outside = get_gc_content(chr1_sequence, ~get_boolean_mask(genes, len(chr1_sequence)))\n",
    "    return gc_inside, gc_outside\n",
    "\n",
    "\n",
    "def get_gc_content(sequence, intervals):\n",
    "    selected_seq = sequence[intervals]\n",
    "    nn_counts = {nn: (selected_seq == nn).sum() for nn in \"ACTG\"}\n",
    "    gc_count = sum([nn_counts[nn] for nn in \"GC\"])\n",
    "    return gc_count / sum(nn_counts.values())\n",
    "\n",
    "\n",
    "if __name__ == '__main__':\n",
    "    result = analyze_within_chromosome(\n",
    "        \"C:/Users/admin/OneDrive/Desktop/gc_test_onechr.fa\",\n",
    "        \"C:/Users/admin/OneDrive/Desktop/gc_bedtest_onechr.bed\"\n",
    "    )\n",
    "    assert result == (0.6, 0.2)"
   ]
  },
  {
   "cell_type": "code",
   "execution_count": null,
   "id": "11600494",
   "metadata": {},
   "outputs": [],
   "source": []
  },
  {
   "cell_type": "code",
   "execution_count": null,
   "id": "58866382",
   "metadata": {},
   "outputs": [],
   "source": []
  }
 ],
 "metadata": {
  "kernelspec": {
   "display_name": "Python 3 (ipykernel)",
   "language": "python",
   "name": "python3"
  },
  "language_info": {
   "codemirror_mode": {
    "name": "ipython",
    "version": 3
   },
   "file_extension": ".py",
   "mimetype": "text/x-python",
   "name": "python",
   "nbconvert_exporter": "python",
   "pygments_lexer": "ipython3",
   "version": "3.11.5"
  }
 },
 "nbformat": 4,
 "nbformat_minor": 5
}
