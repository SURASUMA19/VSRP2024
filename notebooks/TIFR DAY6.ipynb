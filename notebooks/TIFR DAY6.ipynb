{
 "cells": [
  {
   "cell_type": "markdown",
   "id": "22a91f75",
   "metadata": {},
   "source": [
    "## Filtering FASTQ reads"
   ]
  },
  {
   "cell_type": "code",
   "execution_count": 1,
   "id": "e11b895f",
   "metadata": {},
   "outputs": [
    {
     "name": "stdout",
     "output_type": "stream",
     "text": [
      "Defaulting to user installation because normal site-packages is not writeable\n",
      "Requirement already satisfied: bionumpy in c:\\users\\admin\\appdata\\roaming\\python\\python311\\site-packages (1.0.8)\n",
      "Requirement already satisfied: numpy>=1.20 in c:\\programdata\\anaconda3\\lib\\site-packages (from bionumpy) (1.24.3)\n",
      "Requirement already satisfied: npstructures>=0.2.15 in c:\\users\\admin\\appdata\\roaming\\python\\python311\\site-packages (from bionumpy) (0.2.17)\n",
      "Note: you may need to restart the kernel to use updated packages.\n"
     ]
    }
   ],
   "source": [
    "pip install bionumpy\n"
   ]
  },
  {
   "cell_type": "code",
   "execution_count": 2,
   "id": "88975c2e",
   "metadata": {},
   "outputs": [
    {
     "name": "stdout",
     "output_type": "stream",
     "text": [
      "Filtering reads: 19032 -> 16838\n",
      "Filtering reads: 19032 -> 16779\n",
      "Filtering reads: 19033 -> 16783\n",
      "Filtering reads: 19033 -> 16785\n",
      "Filtering reads: 19031 -> 16760\n",
      "Filtering reads: 5010 -> 4420\n"
     ]
    }
   ],
   "source": [
    "import bionumpy as bnp\n",
    "\n",
    "def test(file=\"C:\\\\Users\\\\admin\\\\Downloads\\\\reads_1.fq.gz\", out_filename=\"C:\\\\Users\\\\admin\\\\Downloads\\\\reads_1_filtered.fq.gz\"):\n",
    "    with bnp.open(out_filename, 'w') as out_file:\n",
    "        for reads in bnp.open(file).read_chunks():\n",
    "            min_quality_mask = reads.quality.min(axis=-1) > 1\n",
    "            max_quality_mask = reads.quality.mean(axis=-1) > 10\n",
    "            mask = min_quality_mask & max_quality_mask\n",
    "            print(f'Filtering reads: {len(reads)} -> {mask.sum()}')\n",
    "            out_file.write(reads[mask])\n",
    "\n",
    "if __name__ == \"__main__\":\n",
    "    test()\n"
   ]
  },
  {
   "cell_type": "markdown",
   "id": "4e1642a4",
   "metadata": {},
   "source": [
    "## Working with BAM-files"
   ]
  },
  {
   "cell_type": "markdown",
   "id": "ceea087c",
   "metadata": {},
   "source": [
    "The example provided demonstrates how to handle BAM files using BioNumPy (bionumpy) and the npstructures module for analyzing alignments and base pairs."
   ]
  },
  {
   "cell_type": "code",
   "execution_count": 3,
   "id": "485efecc",
   "metadata": {},
   "outputs": [
    {
     "name": "stdout",
     "output_type": "stream",
     "text": [
      "=: 0\n",
      "A: 0\n",
      "C: 0\n",
      "M: 0\n",
      "G: 0\n",
      "R: 0\n",
      "S: 0\n",
      "V: 0\n",
      "T: 0\n",
      "W: 0\n",
      "Y: 0\n",
      "H: 0\n",
      "K: 0\n",
      "D: 0\n",
      "B: 0\n",
      "N: 0\n",
      "=: 0\n",
      "A: 19\n",
      "C: 8\n",
      "M: 0\n",
      "G: 10\n",
      "R: 0\n",
      "S: 0\n",
      "V: 0\n",
      "T: 12\n",
      "W: 0\n",
      "Y: 0\n",
      "H: 0\n",
      "K: 0\n",
      "D: 0\n",
      "B: 0\n",
      "N: 0\n"
     ]
    }
   ],
   "source": [
    "import bionumpy as bnp\n",
    "from npstructures import ragged_slice\n",
    "\n",
    "def test_bamquality():\n",
    "    # Opens the alignments file\n",
    "    alignments = bnp.open(\"C:\\\\Users\\\\admin\\\\Downloads\\\\alignments.bam\").read()\n",
    "    \n",
    "    # Extracts the first cigar operation for each alignment\n",
    "    start_cigar = alignments.cigar_op[..., 0]\n",
    "    \n",
    "    # Get alignments that start with soft-clip\n",
    "    start_clipped_alignments = alignments[start_cigar == \"s\"]\n",
    "    \n",
    "    # Get the number of softclipped bases\n",
    "    n_clipped_bases = start_clipped_alignments.cigar_length[..., 0]\n",
    "    \n",
    "    # Extract clipped bases\n",
    "    clipped_bases = ragged_slice(start_clipped_alignments.sequence, ends=n_clipped_bases)\n",
    "    \n",
    "    # Count bases in softclipped regions\n",
    "    print(bnp.count_encoded(clipped_bases.ravel()))\n",
    "    \n",
    "    # Count bases in whole reads\n",
    "    print(bnp.count_encoded(alignments.sequence.ravel()))\n",
    "\n",
    "if __name__ == \"__main__\":\n",
    "    test_bamquality()\n"
   ]
  },
  {
   "cell_type": "code",
   "execution_count": null,
   "id": "6a292b93",
   "metadata": {},
   "outputs": [],
   "source": []
  }
 ],
 "metadata": {
  "kernelspec": {
   "display_name": "Python 3 (ipykernel)",
   "language": "python",
   "name": "python3"
  },
  "language_info": {
   "codemirror_mode": {
    "name": "ipython",
    "version": 3
   },
   "file_extension": ".py",
   "mimetype": "text/x-python",
   "name": "python",
   "nbconvert_exporter": "python",
   "pygments_lexer": "ipython3",
   "version": "3.11.5"
  }
 },
 "nbformat": 4,
 "nbformat_minor": 5
}
