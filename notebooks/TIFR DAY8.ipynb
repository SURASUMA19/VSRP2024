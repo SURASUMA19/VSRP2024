{
 "cells": [
  {
   "cell_type": "markdown",
   "id": "9b677836",
   "metadata": {},
   "source": [
    "## Position Weight Matrix"
   ]
  },
  {
   "cell_type": "markdown",
   "id": "34c87a58",
   "metadata": {},
   "source": [
    "Reading a motif-pwm from file, a PositionWeightMatrix function is created using the appropriate alphabet and counts."
   ]
  },
  {
   "cell_type": "code",
   "execution_count": 2,
   "id": "ecfa67b1",
   "metadata": {},
   "outputs": [
    {
     "name": "stdout",
     "output_type": "stream",
     "text": [
      "(array([  5,   5,  11,  29, 207, 392, 174,   0,  56, 121], dtype=int64), array([24.30869731, 24.95400731, 25.5993173 , 26.24462729, 26.88993728,\n",
      "       27.53524728, 28.18055727, 28.82586726, 29.47117725, 30.11648725,\n",
      "       30.76179724]))\n"
     ]
    }
   ],
   "source": [
    "import numpy as np\n",
    "import bionumpy as bnp\n",
    "from bionumpy.io.motifs import read_motif\n",
    "from bionumpy.sequence.position_weight_matrix import get_motif_scores\n",
    "\n",
    "\n",
    "def read_motif_scores(reads_filename: str, motif_filename: str) -> np.ndarray:\n",
    "    # Read the alphabet and counts from jaspar file\n",
    "    pwm = read_motif(motif_filename)\n",
    "\n",
    "    # Get reads\n",
    "    entries = bnp.open(reads_filename).read()\n",
    "\n",
    "    # Calculate the motif score for each valid window\n",
    "    scores = get_motif_scores(entries.sequence, pwm)\n",
    "\n",
    "    # Get a histogram of the max-score for each read\n",
    "    return bnp.histogram(scores.max(axis=-1))\n",
    "\n",
    "\n",
    "if __name__ == \"__main__\":\n",
    "    result = read_motif_scores(\n",
    "        \"C:/Users/admin/Downloads/big.fq.gz\",\n",
    "        \"C:/Users/admin/Downloads/MA0080.1.jaspar\"\n",
    "    )\n",
    "    print(result)"
   ]
  },
  {
   "cell_type": "markdown",
   "id": "15c155f3",
   "metadata": {},
   "source": [
    "The primary purpose of this code is to analyze biological sequence data (FASTQ format) to assess how well a specified motif (described by a PWM) matches within the sequences. It achieves this by:\n",
    "\n",
    "1. Reading the PWM from a JASPAR file, which defines the expected nucleotide frequencies at each position of the motif.\n",
    "2. Computing motif scores across biological reads to quantify the similarity between each read and the motif.\n",
    "3. Generating a histogram to visualize the distribution of maximum motif scores across all reads, indicating how well the motif aligns with the experimental or simulated sequences"
   ]
  },
  {
   "cell_type": "markdown",
   "id": "2a2e6683",
   "metadata": {},
   "source": [
    "## Small Example Interpretation\n",
    "\n",
    "\n",
    "#### FASTQ File (big.fq.gz): Contains 2 biological sequences:\n",
    "\n",
    "Sequence 1: \"ATGCATGCATGC\"\n",
    "Sequence 2: \"GCTAGCTAGCTA\"\n",
    "\n",
    "#### JASPAR File (MA0080.1.jaspar): Contains a PWM for a motif that prefers sequences with \"ATGC\" pattern.\n",
    "\n",
    "When we you run the code:\n",
    "\n",
    "PWM Reading: pwm = read_motif(\"MA0080.1.jaspar\") reads the PWM data from MA0080.1.jaspar, defining the motif's preferences (e.g., higher weights for \"ATGC\" patterns).\n",
    "\n",
    "Sequence Reading: entries = bnp.open(\"big.fq.gz\").read() opens and reads the FASTQ file big.fq.gz, extracting the sequences.\n",
    "\n",
    "Motif Scoring: scores = get_motif_scores(entries.sequence, pwm) computes motif scores:\n",
    "For Sequence 1: Computes scores based on \"ATGCATGCATGC\".\n",
    "For Sequence 2: Computes scores based on \"GCTAGCTAGCTA\".\n",
    "\n",
    "Histogram Calculation: bnp.histogram(scores.max(axis=-1)) generates a histogram of the maximum motif scores across all sequences. This histogram shows how well the motif matches each sequence, reflecting the motif's occurrence and intensity.\n",
    "\n",
    "Output Interpretation\n",
    "The result printed at the end (print(result)) will show the histogram:\n",
    "It might display something like HistogramResult(count=array([...]), bins=array([...])), where count gives the frequency of maximum motif scores in each bin.\n"
   ]
  }
 ],
 "metadata": {
  "kernelspec": {
   "display_name": "Python 3 (ipykernel)",
   "language": "python",
   "name": "python3"
  },
  "language_info": {
   "codemirror_mode": {
    "name": "ipython",
    "version": 3
   },
   "file_extension": ".py",
   "mimetype": "text/x-python",
   "name": "python",
   "nbconvert_exporter": "python",
   "pygments_lexer": "ipython3",
   "version": "3.11.5"
  }
 },
 "nbformat": 4,
 "nbformat_minor": 5
}
