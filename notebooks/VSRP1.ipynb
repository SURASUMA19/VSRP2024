{
 "cells": [
  {
   "cell_type": "markdown",
   "id": "20831ab9",
   "metadata": {},
   "source": [
    "## Implementation and Analysis of the Needleman-Wunsch Algorithm Using BioNumPy for Sequence Alignment"
   ]
  },
  {
   "cell_type": "markdown",
   "id": "f4e6ddab",
   "metadata": {},
   "source": [
    "Sequence alignment is a fundamental process in bioinformatics used to identify similarities between DNA, RNA, or protein sequences. This report details the implementation of the Needleman-Wunsch algorithm using the BioNumPy library and explores its applications in biological research.\n",
    "\n",
    "### Needleman-Wunsch Algorithm\n",
    "The Needleman-Wunsch algorithm, introduced in 1970, is a dynamic programming approach used for global sequence alignment...\n",
    "-->BioNumPy Library\n",
    "BioNumPy is designed to handle large-scale biological data with the efficiency and ease of NumPy"
   ]
  },
  {
   "cell_type": "markdown",
   "id": "72719abe",
   "metadata": {},
   "source": [
    "The Needleman-Wunsch algorithm involves initializing a scoring matrix and filling it based on match, delete, and insert operations"
   ]
  },
  {
   "cell_type": "code",
   "execution_count": 2,
   "id": "a98f6339",
   "metadata": {},
   "outputs": [
    {
     "name": "stdout",
     "output_type": "stream",
     "text": [
      "[[ 0. -1. -2. -3. -4. -5. -6. -7.]\n",
      " [-1.  1.  0. -1. -2. -3. -4. -5.]\n",
      " [-2.  0.  0.  1.  0. -1. -2. -3.]\n",
      " [-3. -1. -1.  0.  2.  1.  0. -1.]\n",
      " [-4. -2. -2. -1.  1.  1.  0. -1.]\n",
      " [-5. -3. -3. -1.  0.  0.  0. -1.]\n",
      " [-6. -4. -2. -2. -1. -1.  1.  0.]\n",
      " [-7. -5. -3. -1. -2. -2.  0.  0.]]\n"
     ]
    }
   ],
   "source": [
    "import numpy as np\n",
    "import bionumpy as bnp\n",
    "\n",
    "def needleman_wunsch(seq1, seq2, match_score=1, gap_cost=-1):\n",
    "    len1, len2 = len(seq1), len(seq2)\n",
    "    matrix = np.zeros((len1 + 1, len2 + 1))\n",
    "    \n",
    "    for i in range(len1 + 1):\n",
    "        matrix[i][0] = i * gap_cost\n",
    "    for j in range(len2 + 1):\n",
    "        matrix[0][j] = j * gap_cost\n",
    "    \n",
    "    for i in range(1, len1 + 1):\n",
    "        for j in range(1, len2 + 1):\n",
    "            match = matrix[i - 1][j - 1] + (match_score if seq1[i - 1] == seq2[j - 1] else -match_score)\n",
    "            delete = matrix[i - 1][j] + gap_cost\n",
    "            insert = matrix[i][j - 1] + gap_cost\n",
    "            matrix[i][j] = max(match, delete, insert)\n",
    "    \n",
    "    return matrix\n",
    "\n",
    "seq1 = \"GATTACA\"\n",
    "seq2 = \"GCATGCU\"\n",
    "alignment_matrix = needleman_wunsch(seq1, seq2)\n",
    "print(alignment_matrix)"
   ]
  },
  {
   "cell_type": "markdown",
   "id": "d99d07fd",
   "metadata": {},
   "source": [
    "### def needleman_wunsch(seq1, seq2, match_score=1, gap_cost=-1):\n",
    "1. Defines the function needleman_wunsch that takes two sequences (seq1 and seq2), a match_score (default is 1), and a gap_cost (default is -1).\n",
    "\n",
    "###     len1, len2 = len(seq1), len(seq2)\n",
    "2. Calculates the lengths of seq1 and seq2, storing them in len1 and len2, respectively.\n",
    "\n",
    "###     matrix = np.zeros((len1 + 1, len2 + 1))\n",
    "3. Creates a matrix of zeros with dimensions (len1 + 1) x (len2 + 1). This matrix will be used to store alignment scores.\n",
    "4.  Initializes the first row and first column of the matrix with multiples of the gap_cost. This represents the cost of introducing gaps at the beginning of either sequence.\n",
    "5. Match: If the characters at seq1[i-1] and seq2[j-1] match, add match_score to the diagonal value; otherwise, subtract match_score.\n",
    "6. Delete: Introduce a gap in seq2, adding gap_cost to the value from the cell above.\n",
    "7. Insert: Introduce a gap in seq1, adding gap_cost to the value from the cell to the left.\n",
    "8. Max Value: The cell [i, j] is filled with the maximum value of these three operations, representing the best score for that cell.\n",
    "        \n",
    "\n"
   ]
  },
  {
   "cell_type": "markdown",
   "id": "92401e6c",
   "metadata": {},
   "source": [
    "In real world example FASTA file can be used to get the sequence alignment sample code is given below"
   ]
  },
  {
   "cell_type": "code",
   "execution_count": 1,
   "id": "71fdaa46",
   "metadata": {},
   "outputs": [],
   "source": [
    "from Bio import SeqIO\n",
    "\n",
    "def read_fasta(file_path):\n",
    "    with open(file_path, \"r\") as file:\n",
    "        for record in SeqIO.parse(file, \"fasta\"):\n",
    "            return str(record.seq)\n",
    "\n",
    "# Using the specified paths\n",
    "seq1 = read_fasta(\"C:/Users/admin/Downloads/sequence.fasta\")\n",
    "seq2 = read_fasta(\"C:/Users/admin/Downloads/ReferenceEnteroB.fasta\")\n",
    "print(\"Sequence 1:\", seq1)\n",
    "print(\"Sequence 2:\", seq2)\n"
   ]
  },
  {
   "cell_type": "markdown",
   "id": "bc99415f",
   "metadata": {},
   "source": [
    "## Variant Calling\n",
    "\n",
    "1. Objective: Detects genetic variants such as SNPs (Single Nucleotide Polymorphisms) from DNA sequence data.\n",
    "\n",
    "Algorithm used: Implements a simple variant caller using the naive Bayes classifier."
   ]
  },
  {
   "cell_type": "code",
   "execution_count": 14,
   "id": "4901dfc8",
   "metadata": {},
   "outputs": [
    {
     "name": "stdout",
     "output_type": "stream",
     "text": [
      "[('A', 'A'), ('A', 'A'), ('A', 'A'), ('A', 'A'), ('A', 'A'), ('A', 'A'), ('A', 'A'), ('A', 'A'), ('A', 'A'), ('A', 'A'), ('A', 'A'), ('A', 'A'), ('A', 'A'), ('A', 'A'), ('A', 'A'), ('A', 'A'), ('A', 'A'), ('A', 'A'), ('A', 'A'), ('A', 'A'), ('A', 'A'), ('A', 'A'), ('A', 'A'), ('A', 'A'), ('A', 'A'), ('A', 'A'), ('C', 'C'), ('C', 'C'), ('C', 'C'), ('C', 'C'), ('C', 'C'), ('C', 'C'), ('C', 'C'), ('C', 'C'), ('C', 'C'), ('C', 'C'), ('C', 'C'), ('C', 'C'), ('C', 'C'), ('C', 'C'), ('C', 'C'), ('C', 'C'), ('C', 'C'), ('C', 'C'), ('C', 'C'), ('C', 'C'), ('C', 'C'), ('C', 'C'), ('C', 'C'), ('C', 'C'), ('C', 'C'), ('C', 'C'), ('C', 'C'), ('C', 'C'), ('C', 'C'), ('C', 'C'), ('C', 'C'), ('C', 'C')]\n"
     ]
    }
   ],
   "source": [
    "import numpy as np\n",
    "import bionumpy as bnp\n",
    "\n",
    "def naive_variant_caller(ref, alt, qual, threshold=20):\n",
    "    variants = []\n",
    "    for r, a, q in zip(ref, alt, qual):\n",
    "        if q >= threshold:\n",
    "            variants.append((r, a))\n",
    "    return variants\n",
    "\n",
    "ref = \"A\"*50 + \"C\"*50\n",
    "alt = \"A\"*49 + \"T\" + \"C\"*50\n",
    "qual = np.random.randint(10, 40, size=100)\n",
    "variants = naive_variant_caller(ref, alt, qual)\n",
    "print(variants)"
   ]
  },
  {
   "cell_type": "markdown",
   "id": "375f31d3",
   "metadata": {},
   "source": [
    "\n",
    "#### Parameters:\n",
    "1.  ref: A string representing the reference sequence.\n",
    "2.  alt: A string representing the alternate sequence.\n",
    "3. qual: A numpy array containing quality scores for each position in the sequences.\n",
    "4. threshold: An integer representing the minimum quality score required to consider a variant (default is 20).\n",
    "#### Function Explanation:\n",
    "1. variants = []: Initializes an empty list to store detected variants.\n",
    "2. for r, a, q in zip(ref, alt, qual): Iterates over corresponding positions in ref, alt, and qual using zip.\n",
    "if q >= threshold: Checks if the quality score q meets or exceeds the specified threshold.\n",
    "3. variants.append((r, a)): If the condition is met, adds a tuple (r, a) to variants, where r is the reference base and a is the 4. alternate base.\n",
    "5. return variants: Returns a list of tuples representing detected variants.\n"
   ]
  },
  {
   "cell_type": "markdown",
   "id": "0949d3b6",
   "metadata": {},
   "source": [
    "#### Example Data\n",
    "5. ref: Creates a reference sequence consisting of 50 'A's followed by 50 'C's (\"AAAAAAAAAACCCCCCCCCC\").\n",
    "6. alt: Creates an alternate sequence where the second position is 'T' instead of 'A' (\"AAAAAAAAAATCCCCCCCCC\").\n",
    "7. qual: Generates an array of 100 random quality scores between 10 and 39 inclusive."
   ]
  },
  {
   "cell_type": "markdown",
   "id": "4b1773ee",
   "metadata": {},
   "source": [
    "## Gene Expression Analysis\n",
    "Objective: Analyzes gene expression data to identify differentially expressed genes.\n",
    "\n",
    "Algorithm used: Implement a simple t-test for comparing expression levels."
   ]
  },
  {
   "cell_type": "code",
   "execution_count": 2,
   "id": "915ddb73",
   "metadata": {},
   "outputs": [
    {
     "name": "stdout",
     "output_type": "stream",
     "text": [
      "T-statistic: -6.944554888357878, P-value: 5.323895809529731e-11\n"
     ]
    }
   ],
   "source": [
    "import numpy as np\n",
    "from scipy.stats import ttest_ind\n",
    "\n",
    "def differential_expression_analysis(group1, group2):\n",
    "    t_stat, p_value = ttest_ind(group1, group2)\n",
    "    return t_stat, p_value\n",
    "\n",
    "# Simulated gene expression data\n",
    "group1 = np.random.normal(10, 2, 100)\n",
    "group2 = np.random.normal(12, 2, 100)\n",
    "t_stat, p_value = differential_expression_analysis(group1, group2)\n",
    "print(f\"T-statistic: {t_stat}, P-value: {p_value}\")\n"
   ]
  },
  {
   "cell_type": "markdown",
   "id": "a966c026",
   "metadata": {},
   "source": [
    "This code demonstrates how to use Python and SciPy to perform differential expression analysis using a t-test. \n",
    "\n",
    "It generates simulated gene expression data for two groups (group1 and group2), calculates the t-statistic and p-value using ttest_ind, and prints the results. \n",
    "\n",
    "This type of analysis is commonly used in bioinformatics and statistical genetics to identify genes that are differentially expressed between experimental conditions or groups."
   ]
  },
  {
   "cell_type": "markdown",
   "id": "a343c29b",
   "metadata": {},
   "source": [
    "#### Simulated Gene Expression Data:\n",
    "group1 = np.random.normal(10, 2, 100): Generates 100 random values from a normal distribution with mean 10 and standard\n",
    "deviation 2. This represents simulated gene expression values for group 1.\n",
    "\n",
    "group2 = np.random.normal(12, 2, 100): Generates 100 random values from a normal distribution with mean 12 and standard deviation 2. This represents simulated gene expression values for group 2."
   ]
  },
  {
   "cell_type": "code",
   "execution_count": null,
   "id": "d5e906ab",
   "metadata": {},
   "outputs": [],
   "source": []
  }
 ],
 "metadata": {
  "kernelspec": {
   "display_name": "Python 3 (ipykernel)",
   "language": "python",
   "name": "python3"
  },
  "language_info": {
   "codemirror_mode": {
    "name": "ipython",
    "version": 3
   },
   "file_extension": ".py",
   "mimetype": "text/x-python",
   "name": "python",
   "nbconvert_exporter": "python",
   "pygments_lexer": "ipython3",
   "version": "3.11.5"
  }
 },
 "nbformat": 4,
 "nbformat_minor": 5
}
